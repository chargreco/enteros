{
 "cells": [
  {
   "cell_type": "markdown",
   "metadata": {},
   "source": [
    "# Clasificador de números enteros\n",
    "Este programa clasifica números enteros ingresados por el usuario en diferentes categorías (primos, compuestos, pares, impares, perfectos y deficientes) y grafica los resultados."
   ]
  },
  {
   "cell_type": "code",
   "execution_count": null,
   "metadata": {},
   "outputs": [],
   "source": [
    "from tkinter import *\n",
    "from matplotlib.figure import Figure\n",
    "from matplotlib.backends.backend_tkagg import FigureCanvasTkAgg\n",
    "from identify import *"
   ]
  },
  {
   "cell_type": "markdown",
   "metadata": {},
   "source": [
    "Inicializamos las variables globales que contarán las ocurrencias de cada categoría."
   ]
  },
  {
   "cell_type": "code",
   "execution_count": null,
   "metadata": {},
   "outputs": [],
   "source": [
    "a = 0\n",
    "b = 0\n",
    "c = 0\n",
    "d = 0\n",
    "e = 0\n",
    "f = 0"
   ]
  },
  {
   "cell_type": "markdown",
   "metadata": {},
   "source": [
    "Definimos la función `on_button_click` que se ejecutará cuando el usuario haga clic en el botón. Esta función toma el número ingresado por el usuario, lo clasifica y actualiza las variables globales y la etiqueta de resultados."
   ]
  },
  {
   "cell_type": "code",
   "execution_count": null,
   "metadata": {},
   "outputs": [],
   "source": [
    "def on_button_click():\n",
    "    global a, b, c, d, e, f \n",
    "    user_input = entry.get()\n",
    "    num = int(user_input) \n",
    "    \n",
    "    a += primo(num)\n",
    "    b += compuesto(num)\n",
    "    c += par(num)\n",
    "    d += impar(num)\n",
    "    e += perfecto(num)\n",
    "    f += deficiente(num)\n",
    "    \n",
    "    result_text = (\n",
    "        f\"Es primo: {primo(num)}\\n\"\n",
    "        f\"Es compuesto: {compuesto(num)}\\n\"\n",
    "        f\"Es par: {par(num)}\\n\"\n",
    "        f\"Es impar: {impar(num)}\\n\"\n",
    "        f\"Es perfecto: {perfecto(num)}\\n\"\n",
    "        f\"Es deficiente: {deficiente(num)}\"\n",
    "    )\n",
    "    result_label.config(text=result_text)\n",
    "    \n",
    "    plot_graph(a, b, c, d, e, f)"
   ]
  },
  {
   "cell_type": "markdown",
   "metadata": {},
   "source": [
    "Definimos la función `plot_graph` que crea y muestra una gráfica de barras con los resultados acumulados."
   ]
  },
  {
   "cell_type": "code",
   "execution_count": null,
   "metadata": {},
   "outputs": [],
   "source": [
    "def plot_graph(a, b, c, d, e, f):\n",
    "    \n",
    "    fig = Figure(figsize=(5, 4), dpi=100)\n",
    "    plot = fig.add_subplot(1, 1, 1)\n",
    "    \n",
    "    etiquetas = [\"Primos\", \"Compuestos\", \"Pares\", \"Impares\", \"Perfectos\", \"Deficientes\"]\n",
    "    valores = [a, b, c, d, e, f]\n",
    "    \n",
    "    plot.bar(etiquetas, valores)\n",
    "    \n",
    "    global canvas\n",
    "    if 'canvas' in globals():\n",
    "        canvas.get_tk_widget().pack_forget()  \n",
    "    canvas = FigureCanvasTkAgg(fig, master=raiz)\n",
    "    canvas.draw()\n",
    "    canvas.get_tk_widget().pack(side=TOP, fill=BOTH, expand=1)"
   ]
  },
  {
   "cell_type": "markdown",
   "metadata": {},
   "source": [
    "Configuramos la ventana principal de Tkinter y agregamos los widgets necesarios (entrada de texto, botón y etiqueta de resultados)."
   ]
  },
  {
   "cell_type": "code",
   "execution_count": null,
   "metadata": {},
   "outputs": [],
   "source": [
    "raiz = Tk()\n",
    "raiz.title(\"Clasificador de numeros enteros\")\n",
    "raiz.config(bg=\"white\")\n",
    "raiz.geometry(\"650x400\")\n",
    "\n",
    "entry = Entry(raiz)\n",
    "entry.pack(pady=10) \n",
    "\n",
    "button = Button(raiz, text=\"Evaluar\", command=on_button_click)\n",
    "button.pack(pady=10)  \n",
    "\n",
    "result_label = Label(raiz, text=\"\", justify=LEFT, bg=\"white\")\n",
    "result_label.pack(pady=10, padx=20, anchor='w')  \n",
    "\n",
    "raiz.mainloop()"
   ]
  }
 ],
 "metadata": {
  "kernelspec": {
   "display_name": "Python 3",
   "language": "python",
   "name": "python3"
  },
  "language_info": {
   "codemirror_mode": {
    "name": "ipython",
    "version": 3
   },
   "file_extension": ".py",
   "mimetype": "text/x-python",
   "name": "python",
   "nbconvert_exporter": "python",
   "pygments_lexer": "ipython3",
   "version": "3.8.5"
  }
 },
 "nbformat": 4,
 "nbformat_minor": 4
}